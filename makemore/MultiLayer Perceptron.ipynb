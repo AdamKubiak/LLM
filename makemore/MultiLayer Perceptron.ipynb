{
 "cells": [
  {
   "cell_type": "code",
   "execution_count": 1,
   "metadata": {},
   "outputs": [],
   "source": [
    "import os\n",
    "import torch\n",
    "import numpy as np\n",
    "import matplotlib.pyplot as plt"
   ]
  },
  {
   "cell_type": "code",
   "execution_count": 2,
   "metadata": {},
   "outputs": [],
   "source": [
    "basedir = os.path.abspath('')[:-8]\n",
    "\n",
    "with open(os.path.join(basedir, 'datasets\\\\names.txt'), 'r', encoding='utf-8') as file:\n",
    "    words = file.read().splitlines()"
   ]
  },
  {
   "cell_type": "code",
   "execution_count": 3,
   "metadata": {},
   "outputs": [],
   "source": [
    "chars = sorted(list(set(''.join(words))))\n",
    "stoi = {s:i+1 for i,s in enumerate(chars)}\n",
    "stoi['.'] = 0\n",
    "itos = {i:s for s,i in stoi.items()}"
   ]
  },
  {
   "cell_type": "code",
   "execution_count": 7,
   "metadata": {},
   "outputs": [
    {
     "name": "stdout",
     "output_type": "stream",
     "text": [
      "... -----> e\n",
      "..e -----> m\n",
      ".em -----> m\n",
      "emm -----> a\n",
      "mma -----> .\n",
      "... -----> o\n",
      "..o -----> l\n",
      ".ol -----> i\n",
      "oli -----> v\n",
      "liv -----> i\n",
      "ivi -----> a\n",
      "via -----> .\n",
      "... -----> a\n",
      "..a -----> v\n",
      ".av -----> a\n",
      "ava -----> .\n",
      "... -----> i\n",
      "..i -----> s\n",
      ".is -----> a\n",
      "isa -----> b\n",
      "sab -----> e\n",
      "abe -----> l\n",
      "bel -----> l\n",
      "ell -----> a\n",
      "lla -----> .\n",
      "... -----> s\n",
      "..s -----> o\n",
      ".so -----> p\n",
      "sop -----> h\n",
      "oph -----> i\n",
      "phi -----> a\n",
      "hia -----> .\n"
     ]
    }
   ],
   "source": [
    "block_size = 3 # context length\n",
    "\n",
    "X, Y = [], []\n",
    "\n",
    "for word in words[:5]:\n",
    "    context = [0] * block_size\n",
    "    \n",
    "    for char in word + '.':\n",
    "        ix = stoi[char]\n",
    "        X.append(context)\n",
    "        Y.append(ix)\n",
    "        print(''.join(itos[i] for i in context), '----->', itos[ix])\n",
    "        context = context[1:] + [ix]\n",
    "\n",
    "X = torch.tensor(X)\n",
    "Y = torch.tensor(Y)"
   ]
  },
  {
   "cell_type": "code",
   "execution_count": 8,
   "metadata": {},
   "outputs": [
    {
     "data": {
      "text/plain": [
       "(torch.Size([32, 3]), torch.int64, torch.Size([32]), torch.int64)"
      ]
     },
     "execution_count": 8,
     "metadata": {},
     "output_type": "execute_result"
    }
   ],
   "source": [
    "X.shape, X.dtype, Y.shape, Y.dtype"
   ]
  },
  {
   "cell_type": "code",
   "execution_count": 9,
   "metadata": {},
   "outputs": [],
   "source": [
    "C = torch.randn((27, 2))"
   ]
  },
  {
   "cell_type": "code",
   "execution_count": 11,
   "metadata": {},
   "outputs": [
    {
     "data": {
      "text/plain": [
       "tensor([[[-1.3307, -1.3714],\n",
       "         [-1.3307, -1.3714],\n",
       "         [-1.3307, -1.3714]],\n",
       "\n",
       "        [[-1.3307, -1.3714],\n",
       "         [-1.3307, -1.3714],\n",
       "         [-0.4471,  0.4396]],\n",
       "\n",
       "        [[-1.3307, -1.3714],\n",
       "         [-0.4471,  0.4396],\n",
       "         [ 0.7805, -0.0560]],\n",
       "\n",
       "        [[-0.4471,  0.4396],\n",
       "         [ 0.7805, -0.0560],\n",
       "         [ 0.7805, -0.0560]],\n",
       "\n",
       "        [[ 0.7805, -0.0560],\n",
       "         [ 0.7805, -0.0560],\n",
       "         [ 0.2940,  0.6260]],\n",
       "\n",
       "        [[-1.3307, -1.3714],\n",
       "         [-1.3307, -1.3714],\n",
       "         [-1.3307, -1.3714]],\n",
       "\n",
       "        [[-1.3307, -1.3714],\n",
       "         [-1.3307, -1.3714],\n",
       "         [ 1.6728, -0.3697]],\n",
       "\n",
       "        [[-1.3307, -1.3714],\n",
       "         [ 1.6728, -0.3697],\n",
       "         [ 0.7562,  0.8877]],\n",
       "\n",
       "        [[ 1.6728, -0.3697],\n",
       "         [ 0.7562,  0.8877],\n",
       "         [-0.3107,  0.1143]],\n",
       "\n",
       "        [[ 0.7562,  0.8877],\n",
       "         [-0.3107,  0.1143],\n",
       "         [ 0.9059,  0.2327]],\n",
       "\n",
       "        [[-0.3107,  0.1143],\n",
       "         [ 0.9059,  0.2327],\n",
       "         [-0.3107,  0.1143]],\n",
       "\n",
       "        [[ 0.9059,  0.2327],\n",
       "         [-0.3107,  0.1143],\n",
       "         [ 0.2940,  0.6260]],\n",
       "\n",
       "        [[-1.3307, -1.3714],\n",
       "         [-1.3307, -1.3714],\n",
       "         [-1.3307, -1.3714]],\n",
       "\n",
       "        [[-1.3307, -1.3714],\n",
       "         [-1.3307, -1.3714],\n",
       "         [ 0.2940,  0.6260]],\n",
       "\n",
       "        [[-1.3307, -1.3714],\n",
       "         [ 0.2940,  0.6260],\n",
       "         [ 0.9059,  0.2327]],\n",
       "\n",
       "        [[ 0.2940,  0.6260],\n",
       "         [ 0.9059,  0.2327],\n",
       "         [ 0.2940,  0.6260]],\n",
       "\n",
       "        [[-1.3307, -1.3714],\n",
       "         [-1.3307, -1.3714],\n",
       "         [-1.3307, -1.3714]],\n",
       "\n",
       "        [[-1.3307, -1.3714],\n",
       "         [-1.3307, -1.3714],\n",
       "         [-0.3107,  0.1143]],\n",
       "\n",
       "        [[-1.3307, -1.3714],\n",
       "         [-0.3107,  0.1143],\n",
       "         [-2.4229, -2.0727]],\n",
       "\n",
       "        [[-0.3107,  0.1143],\n",
       "         [-2.4229, -2.0727],\n",
       "         [ 0.2940,  0.6260]],\n",
       "\n",
       "        [[-2.4229, -2.0727],\n",
       "         [ 0.2940,  0.6260],\n",
       "         [ 1.0662, -1.5632]],\n",
       "\n",
       "        [[ 0.2940,  0.6260],\n",
       "         [ 1.0662, -1.5632],\n",
       "         [-0.4471,  0.4396]],\n",
       "\n",
       "        [[ 1.0662, -1.5632],\n",
       "         [-0.4471,  0.4396],\n",
       "         [ 0.7562,  0.8877]],\n",
       "\n",
       "        [[-0.4471,  0.4396],\n",
       "         [ 0.7562,  0.8877],\n",
       "         [ 0.7562,  0.8877]],\n",
       "\n",
       "        [[ 0.7562,  0.8877],\n",
       "         [ 0.7562,  0.8877],\n",
       "         [ 0.2940,  0.6260]],\n",
       "\n",
       "        [[-1.3307, -1.3714],\n",
       "         [-1.3307, -1.3714],\n",
       "         [-1.3307, -1.3714]],\n",
       "\n",
       "        [[-1.3307, -1.3714],\n",
       "         [-1.3307, -1.3714],\n",
       "         [-2.4229, -2.0727]],\n",
       "\n",
       "        [[-1.3307, -1.3714],\n",
       "         [-2.4229, -2.0727],\n",
       "         [ 1.6728, -0.3697]],\n",
       "\n",
       "        [[-2.4229, -2.0727],\n",
       "         [ 1.6728, -0.3697],\n",
       "         [-0.9285,  0.0585]],\n",
       "\n",
       "        [[ 1.6728, -0.3697],\n",
       "         [-0.9285,  0.0585],\n",
       "         [-0.1252,  1.8581]],\n",
       "\n",
       "        [[-0.9285,  0.0585],\n",
       "         [-0.1252,  1.8581],\n",
       "         [-0.3107,  0.1143]],\n",
       "\n",
       "        [[-0.1252,  1.8581],\n",
       "         [-0.3107,  0.1143],\n",
       "         [ 0.2940,  0.6260]]])"
      ]
     },
     "execution_count": 11,
     "metadata": {},
     "output_type": "execute_result"
    }
   ],
   "source": [
    "embedding = C[X]\n",
    "embedding"
   ]
  },
  {
   "cell_type": "markdown",
   "metadata": {},
   "source": [
    "As we can see single input to our nerual net will 3x2 size tensor, it is because we embeed single character into embedding of tensor 1x2. \n",
    "\n",
    "We can see that start/stop character is embedded into: '.' == [-1.3307, -1.3714]"
   ]
  },
  {
   "cell_type": "code",
   "execution_count": 17,
   "metadata": {},
   "outputs": [],
   "source": [
    "W1 = torch.randn((6, 100))\n",
    "b1 = torch.randn((100))"
   ]
  },
  {
   "cell_type": "markdown",
   "metadata": {},
   "source": [
    "Since we cannot create dot product of tenser dim (32, 3, 2) with our layer which is (6, 100) we have to transform our tenser of embedding into such form that every word in represented as list of values."
   ]
  },
  {
   "cell_type": "code",
   "execution_count": 22,
   "metadata": {},
   "outputs": [
    {
     "data": {
      "text/plain": [
       "tensor([[-1.3307, -1.3714, -1.3307, -1.3714, -1.3307, -1.3714],\n",
       "        [-1.3307, -1.3714, -1.3307, -1.3714, -0.4471,  0.4396],\n",
       "        [-1.3307, -1.3714, -0.4471,  0.4396,  0.7805, -0.0560],\n",
       "        [-0.4471,  0.4396,  0.7805, -0.0560,  0.7805, -0.0560],\n",
       "        [ 0.7805, -0.0560,  0.7805, -0.0560,  0.2940,  0.6260],\n",
       "        [-1.3307, -1.3714, -1.3307, -1.3714, -1.3307, -1.3714],\n",
       "        [-1.3307, -1.3714, -1.3307, -1.3714,  1.6728, -0.3697],\n",
       "        [-1.3307, -1.3714,  1.6728, -0.3697,  0.7562,  0.8877],\n",
       "        [ 1.6728, -0.3697,  0.7562,  0.8877, -0.3107,  0.1143],\n",
       "        [ 0.7562,  0.8877, -0.3107,  0.1143,  0.9059,  0.2327],\n",
       "        [-0.3107,  0.1143,  0.9059,  0.2327, -0.3107,  0.1143],\n",
       "        [ 0.9059,  0.2327, -0.3107,  0.1143,  0.2940,  0.6260],\n",
       "        [-1.3307, -1.3714, -1.3307, -1.3714, -1.3307, -1.3714],\n",
       "        [-1.3307, -1.3714, -1.3307, -1.3714,  0.2940,  0.6260],\n",
       "        [-1.3307, -1.3714,  0.2940,  0.6260,  0.9059,  0.2327],\n",
       "        [ 0.2940,  0.6260,  0.9059,  0.2327,  0.2940,  0.6260],\n",
       "        [-1.3307, -1.3714, -1.3307, -1.3714, -1.3307, -1.3714],\n",
       "        [-1.3307, -1.3714, -1.3307, -1.3714, -0.3107,  0.1143],\n",
       "        [-1.3307, -1.3714, -0.3107,  0.1143, -2.4229, -2.0727],\n",
       "        [-0.3107,  0.1143, -2.4229, -2.0727,  0.2940,  0.6260],\n",
       "        [-2.4229, -2.0727,  0.2940,  0.6260,  1.0662, -1.5632],\n",
       "        [ 0.2940,  0.6260,  1.0662, -1.5632, -0.4471,  0.4396],\n",
       "        [ 1.0662, -1.5632, -0.4471,  0.4396,  0.7562,  0.8877],\n",
       "        [-0.4471,  0.4396,  0.7562,  0.8877,  0.7562,  0.8877],\n",
       "        [ 0.7562,  0.8877,  0.7562,  0.8877,  0.2940,  0.6260],\n",
       "        [-1.3307, -1.3714, -1.3307, -1.3714, -1.3307, -1.3714],\n",
       "        [-1.3307, -1.3714, -1.3307, -1.3714, -2.4229, -2.0727],\n",
       "        [-1.3307, -1.3714, -2.4229, -2.0727,  1.6728, -0.3697],\n",
       "        [-2.4229, -2.0727,  1.6728, -0.3697, -0.9285,  0.0585],\n",
       "        [ 1.6728, -0.3697, -0.9285,  0.0585, -0.1252,  1.8581],\n",
       "        [-0.9285,  0.0585, -0.1252,  1.8581, -0.3107,  0.1143],\n",
       "        [-0.1252,  1.8581, -0.3107,  0.1143,  0.2940,  0.6260]])"
      ]
     },
     "execution_count": 22,
     "metadata": {},
     "output_type": "execute_result"
    }
   ],
   "source": [
    "#torch.cat(torch.unbind(embedding, 1), 1)\n",
    "\n",
    "#more efficient method the same result\n",
    "embedding.view(-1, 6)"
   ]
  },
  {
   "cell_type": "code",
   "execution_count": 23,
   "metadata": {},
   "outputs": [],
   "source": [
    "h = torch.tanh(embedding.view(-1, 6)) @ W1 + b1"
   ]
  },
  {
   "cell_type": "code",
   "execution_count": 25,
   "metadata": {},
   "outputs": [
    {
     "data": {
      "text/plain": [
       "torch.Size([32, 100])"
      ]
     },
     "execution_count": 25,
     "metadata": {},
     "output_type": "execute_result"
    }
   ],
   "source": [
    "h.shape"
   ]
  },
  {
   "cell_type": "code",
   "execution_count": 26,
   "metadata": {},
   "outputs": [],
   "source": [
    "W2 = torch.randn((100, 27))\n",
    "b2 = torch.randn(27)"
   ]
  },
  {
   "cell_type": "code",
   "execution_count": 27,
   "metadata": {},
   "outputs": [],
   "source": [
    "logits = h @ W2 + b2"
   ]
  },
  {
   "cell_type": "code",
   "execution_count": 30,
   "metadata": {},
   "outputs": [
    {
     "data": {
      "text/plain": [
       "tensor([[-2.7284e+01,  3.5230e+01, -6.1616e-01, -7.5942e+01, -4.5416e+00,\n",
       "         -1.5480e+00, -4.3681e+00, -5.8932e+00,  1.2707e+01, -1.3209e+00,\n",
       "         -2.7578e+00,  2.2155e+00, -3.3384e+01,  3.7354e+01,  3.1054e+01,\n",
       "         -2.0524e+01,  8.3992e+00,  3.6128e+01, -3.2232e+01,  2.4364e+01,\n",
       "          3.2212e+01,  2.0724e+01, -3.5523e+00,  3.7029e+01, -2.3817e+01,\n",
       "         -4.5092e+01,  2.7186e+00],\n",
       "        [-3.6752e+01,  2.4128e+01, -1.4302e+01, -4.1531e+01, -1.8487e+01,\n",
       "          3.0386e+01, -7.1382e+00, -7.2264e+00,  1.4000e+01,  1.9112e+00,\n",
       "         -8.8723e-01,  1.1040e+00, -3.1227e+01,  4.5709e+01,  2.4597e+01,\n",
       "         -9.9323e+00,  1.2098e+00,  3.4131e+01, -1.4183e+01,  3.0550e+01,\n",
       "          2.6021e+01,  3.3753e+01, -1.5887e+00,  2.2554e+01, -2.8495e+01,\n",
       "         -3.8315e+01,  1.7211e+01],\n",
       "        [-3.9632e+01,  1.9218e+01, -2.2329e+01,  1.8111e+01, -4.4967e+00,\n",
       "          2.6254e+01,  8.0094e-01,  6.8276e+00,  1.9647e-01,  1.5077e+01,\n",
       "          9.2402e+00,  3.3520e+00, -2.0621e+01,  1.9800e+01, -8.6102e+00,\n",
       "          6.0043e+00,  3.0963e+00, -1.1015e+01, -1.1979e+01,  1.1925e+01,\n",
       "         -1.0381e+01,  4.1568e+01,  1.4714e+01, -3.6547e+00, -3.7759e+01,\n",
       "         -1.2973e+01, -1.7383e+01],\n",
       "        [-1.2934e+01,  1.4508e+01, -1.9380e+01,  3.2324e+01, -1.3216e+01,\n",
       "          1.0923e+01,  1.5434e+01, -1.5163e+01,  5.0565e+00, -1.5122e+00,\n",
       "          1.8247e+01, -1.4024e+01, -2.3953e+01,  7.5003e+00,  1.2255e+01,\n",
       "          2.8849e+01, -6.6719e+00, -3.0596e+01,  1.4825e+01, -1.0630e+01,\n",
       "         -2.2568e+01,  2.1088e+01,  4.4315e+01,  4.3244e+00, -2.1596e+01,\n",
       "         -4.1213e+00, -1.7808e+01],\n",
       "        [ 1.1704e+01,  2.0462e+00, -8.5300e+00,  3.0677e+01,  6.9939e+00,\n",
       "          1.0519e+00,  2.1881e+01, -8.3265e+00, -7.8683e+00, -8.2620e+00,\n",
       "          2.0644e+01, -1.3974e+01, -2.3837e+00, -2.8024e+00, -1.2843e+01,\n",
       "          1.5021e+01,  8.6081e-01, -1.8294e+01, -4.4717e+00, -1.8506e+01,\n",
       "         -2.6413e+01, -4.7442e+00,  1.8734e+01, -7.5156e+00, -6.5812e+00,\n",
       "         -1.4031e+01, -1.3144e+01],\n",
       "        [-2.7284e+01,  3.5230e+01, -6.1616e-01, -7.5942e+01, -4.5416e+00,\n",
       "         -1.5480e+00, -4.3681e+00, -5.8932e+00,  1.2707e+01, -1.3209e+00,\n",
       "         -2.7578e+00,  2.2155e+00, -3.3384e+01,  3.7354e+01,  3.1054e+01,\n",
       "         -2.0524e+01,  8.3992e+00,  3.6128e+01, -3.2232e+01,  2.4364e+01,\n",
       "          3.2212e+01,  2.0724e+01, -3.5523e+00,  3.7029e+01, -2.3817e+01,\n",
       "         -4.5092e+01,  2.7186e+00],\n",
       "        [-3.9678e+01,  2.1684e+01, -6.2487e+00,  2.3594e+00, -1.9027e+01,\n",
       "          1.1514e+01, -1.2745e+00, -1.6666e+00,  9.4900e-01,  2.1268e+01,\n",
       "          1.6594e+01, -1.4489e+01, -2.3902e+01,  3.8896e+01,  2.0263e+01,\n",
       "          7.0725e+00, -1.6612e-01,  4.0546e-01, -2.4903e+01,  4.2462e+01,\n",
       "         -1.3284e+00,  4.7321e+01,  8.3405e+00,  1.9048e+01, -5.2113e+01,\n",
       "         -3.3820e+01, -1.9708e+01],\n",
       "        [-5.0519e+01,  1.1814e+01, -2.4024e+01,  3.5736e+01, -9.1409e+00,\n",
       "          3.4814e+01,  6.4381e+00, -1.2443e+00,  3.4676e+00, -2.3541e+01,\n",
       "          4.6141e+00, -2.2550e+01, -3.7034e+01,  2.5781e+01,  1.0375e+01,\n",
       "          2.0496e+01, -9.4296e+00, -2.5084e+01,  5.6665e+00, -1.8207e+01,\n",
       "         -1.1253e+01,  4.1533e+01,  3.9320e+01,  1.4311e+01, -2.0704e+01,\n",
       "         -2.4012e+01, -1.8104e+01],\n",
       "        [ 2.2809e+01,  4.7546e+00, -5.8416e+00,  1.2445e+01,  3.0130e+01,\n",
       "         -1.1224e+01,  2.4029e+01,  1.7970e+00, -1.3160e+01, -1.1184e+01,\n",
       "          1.5010e+01,  6.5727e-01,  6.0495e+00, -1.9127e+01, -3.5103e+01,\n",
       "         -7.9845e-01,  1.1304e+01, -1.3765e+01, -1.8610e+01, -3.5302e+01,\n",
       "         -2.5554e+01, -2.1544e+01,  6.7836e+00, -1.6328e+01,  5.9059e+00,\n",
       "         -1.0991e+01, -1.6957e+01],\n",
       "        [ 2.5716e+01,  4.7818e+00, -1.0325e+01,  3.4702e+01, -8.8939e+00,\n",
       "         -7.4265e-01,  2.0168e+01, -1.5973e+01, -5.0363e+00,  2.7763e+01,\n",
       "          3.2712e+01, -2.4365e+00,  7.9815e+00, -3.0028e+00, -1.0991e+01,\n",
       "          2.1241e+01,  2.1220e+00, -1.5011e+01,  1.4104e+00,  1.4549e+01,\n",
       "         -3.1912e+01, -5.6058e-01,  1.4006e+01, -2.0225e+01, -2.5955e+01,\n",
       "          1.6370e+00, -7.1336e+00],\n",
       "        [-9.2482e+00,  1.6895e+01, -2.0713e+01,  1.1744e+00, -1.0096e-01,\n",
       "          1.3669e+01,  1.3347e+01, -1.1486e+01,  8.0333e+00, -1.6120e+01,\n",
       "          5.8058e+00, -1.8639e+00, -2.4897e+01,  4.4029e+00,  4.2906e+00,\n",
       "          1.1723e+01, -1.0396e+00, -1.1922e+01,  1.0424e+01, -2.6388e+01,\n",
       "         -7.7148e+00,  7.2181e+00,  3.3257e+01,  4.6363e+00, -3.2983e+00,\n",
       "         -8.5434e+00, -3.5668e+00],\n",
       "        [ 2.1894e+01,  3.7424e+00, -1.0056e+01,  2.0968e+01, -1.1770e+00,\n",
       "          4.7213e+00,  1.7449e+01, -1.0696e+01, -5.6354e+00,  1.7744e+01,\n",
       "          2.5175e+01,  8.9325e-01,  7.7809e+00,  1.1461e-02, -1.7022e+01,\n",
       "          9.9503e+00,  4.9099e+00, -2.5518e+00, -5.8204e+00,  8.6777e+00,\n",
       "         -2.2746e+01, -4.2467e+00,  3.3933e+00, -1.9062e+01, -1.7763e+01,\n",
       "         -6.7352e+00,  2.8802e-01],\n",
       "        [-2.7284e+01,  3.5230e+01, -6.1616e-01, -7.5942e+01, -4.5416e+00,\n",
       "         -1.5480e+00, -4.3681e+00, -5.8932e+00,  1.2707e+01, -1.3209e+00,\n",
       "         -2.7578e+00,  2.2155e+00, -3.3384e+01,  3.7354e+01,  3.1054e+01,\n",
       "         -2.0524e+01,  8.3992e+00,  3.6128e+01, -3.2232e+01,  2.4364e+01,\n",
       "          3.2212e+01,  2.0724e+01, -3.5523e+00,  3.7029e+01, -2.3817e+01,\n",
       "         -4.5092e+01,  2.7186e+00],\n",
       "        [-4.1255e+01,  1.9247e+01, -1.5834e+01, -1.1689e+01, -2.3592e+01,\n",
       "          3.3929e+01, -5.7328e+00, -5.4407e+00,  9.1647e+00,  1.0887e+01,\n",
       "          6.8515e+00, -5.6038e+00, -2.7503e+01,  4.5876e+01,  2.0578e+01,\n",
       "          6.6967e-01, -1.8669e+00,  1.9765e+01, -1.2202e+01,  3.7544e+01,\n",
       "          1.2769e+01,  4.3816e+01,  3.1227e+00,  1.6061e+01, -3.9704e+01,\n",
       "         -3.4119e+01,  7.3290e+00],\n",
       "        [-4.4208e+01,  1.5273e+01, -2.7281e+01,  3.5847e+01, -1.0530e+00,\n",
       "          3.1681e+01,  4.6520e+00,  7.3009e+00, -5.0358e-01, -2.4024e-01,\n",
       "          7.0699e+00, -2.9388e+00, -2.5197e+01,  1.4444e+01, -1.1468e+01,\n",
       "          1.3529e+01, -8.6112e-01, -2.5153e+01, -2.1206e+00, -9.5381e+00,\n",
       "         -1.7403e+01,  4.1054e+01,  2.8193e+01, -4.4781e+00, -2.8854e+01,\n",
       "         -9.6928e+00, -2.2083e+01],\n",
       "        [ 9.2904e+00,  5.7563e+00, -1.9708e+01,  3.4628e+01, -4.4365e+00,\n",
       "          1.2065e+01,  2.0615e+01, -1.5869e+01,  1.2130e+00, -4.0579e+00,\n",
       "          1.9550e+01, -7.1349e+00, -9.5408e+00, -3.5808e+00, -5.4915e+00,\n",
       "          2.4137e+01, -3.3052e+00, -2.3276e+01,  1.6544e+01, -2.0180e+01,\n",
       "         -2.6507e+01,  8.4103e-01,  3.3435e+01, -1.0889e+01, -7.5065e+00,\n",
       "          6.3647e-01, -5.2984e+00],\n",
       "        [-2.7284e+01,  3.5230e+01, -6.1616e-01, -7.5942e+01, -4.5416e+00,\n",
       "         -1.5480e+00, -4.3681e+00, -5.8932e+00,  1.2707e+01, -1.3209e+00,\n",
       "         -2.7578e+00,  2.2155e+00, -3.3384e+01,  3.7354e+01,  3.1054e+01,\n",
       "         -2.0524e+01,  8.3992e+00,  3.6128e+01, -3.2232e+01,  2.4364e+01,\n",
       "          3.2212e+01,  2.0724e+01, -3.5523e+00,  3.7029e+01, -2.3817e+01,\n",
       "         -4.5092e+01,  2.7186e+00],\n",
       "        [-3.5734e+01,  2.5458e+01, -1.1140e+01, -4.0657e+01, -1.6468e+01,\n",
       "          2.2997e+01, -5.9158e+00, -6.2615e+00,  1.2010e+01,  4.0892e+00,\n",
       "          1.2370e+00, -8.7438e-01, -3.0543e+01,  4.3518e+01,  2.4969e+01,\n",
       "         -9.1824e+00,  2.0995e+00,  2.9791e+01, -1.8366e+01,  3.1260e+01,\n",
       "          2.3187e+01,  3.3664e+01, -5.1739e-01,  2.4244e+01, -3.1042e+01,\n",
       "         -3.8713e+01,  9.9568e+00],\n",
       "        [-2.6937e+01,  3.4403e+01, -9.7810e+00, -6.0935e+01,  1.0481e+01,\n",
       "          1.0940e+00, -1.3731e-01,  1.5036e+00,  9.9423e+00, -9.3346e+00,\n",
       "         -7.0752e+00,  1.1388e+01, -3.2112e+01,  1.8727e+01,  9.9522e+00,\n",
       "         -1.9082e+01,  1.0966e+01,  1.9137e+01, -2.5083e+01, -5.1846e+00,\n",
       "          2.1176e+01,  1.4996e+01,  6.4887e+00,  2.3132e+01, -1.2217e+01,\n",
       "         -2.9768e+01, -5.3333e+00],\n",
       "        [-9.6887e+00,  1.5441e+01, -1.2400e+01, -8.7252e+00, -3.0787e+01,\n",
       "          2.2486e+01,  1.9709e+00, -1.9420e+01,  1.0421e+01,  2.2633e+01,\n",
       "          1.8154e+01, -4.2179e+00, -1.5718e+01,  3.6210e+01,  2.3886e+01,\n",
       "          9.0397e+00, -2.6716e+00,  1.9981e+01, -1.1860e+00,  4.4161e+01,\n",
       "          4.8435e+00,  2.5802e+01,  4.7824e+00,  8.1012e+00, -3.6935e+01,\n",
       "         -2.2940e+01,  1.5897e+01],\n",
       "        [-4.3050e+01,  2.3459e+01, -1.6279e+01,  2.3055e+01,  8.2536e+00,\n",
       "          5.8719e+00,  6.9263e+00,  1.0927e+01, -4.4449e+00,  1.9827e+00,\n",
       "          9.1715e+00, -6.5525e+00, -2.7032e+01,  8.5457e+00, -7.0906e+00,\n",
       "          1.0332e+01,  3.5586e+00, -3.3196e+01, -1.8172e+01, -1.0515e+01,\n",
       "         -1.9229e+01,  3.8919e+01,  3.0294e+01,  6.2974e+00, -3.3206e+01,\n",
       "         -1.4182e+01, -4.3306e+01],\n",
       "        [ 1.1694e+01,  1.1406e+01, -7.0813e+00, -9.2398e+00, -9.9116e+00,\n",
       "          2.4405e-01,  1.8872e+01, -2.6610e+01,  8.9800e+00, -2.2311e+01,\n",
       "          1.3508e+01, -1.8713e+01, -2.1383e+01,  1.1784e+01,  2.5645e+01,\n",
       "          1.5648e+01, -5.4581e+00, -6.5788e-01,  1.0309e+01, -1.5955e+01,\n",
       "         -3.3170e+00, -7.7383e+00,  2.9947e+01,  1.8539e+01,  1.5401e+00,\n",
       "         -2.2693e+01,  5.9808e+00],\n",
       "        [ 6.1660e+00, -1.1658e+00, -7.4108e+00,  3.6930e+01,  1.5302e+01,\n",
       "          7.7199e+00,  1.4735e+01,  9.3119e+00, -1.8870e+01,  1.7832e+01,\n",
       "          2.3360e+01, -3.0105e-01,  1.5081e+01, -1.2788e-01, -4.1456e+01,\n",
       "          2.1336e-01,  1.0454e+01, -6.7106e+00, -2.9325e+01,  7.5647e+00,\n",
       "         -2.9029e+01,  4.7948e+00, -1.2130e+01, -2.6760e+01, -2.3747e+01,\n",
       "         -1.6036e+01, -1.5407e+01],\n",
       "        [-1.5789e+01,  8.9081e+00, -3.4935e+01,  5.1387e+01, -1.2646e+01,\n",
       "          3.5266e+01,  1.3486e+01, -1.0798e+01,  5.9536e+00,  2.1722e+00,\n",
       "          1.4905e+01, -7.7859e-03, -1.8997e+01,  2.1405e+00, -8.2314e+00,\n",
       "          2.9938e+01, -6.5945e+00, -3.1844e+01,  2.8616e+01, -1.8123e+01,\n",
       "         -2.7734e+01,  2.3998e+01,  4.3336e+01, -1.7290e+01, -1.7931e+01,\n",
       "          1.1209e+01, -5.6074e+00],\n",
       "        [ 2.3306e+01,  2.4567e+00, -2.0311e+01,  4.2263e+01,  2.9407e+00,\n",
       "          8.0185e+00,  2.4376e+01, -1.3593e+01, -3.2753e+00,  3.3263e+00,\n",
       "          2.3291e+01,  4.8620e-01,  1.8063e+00, -1.5612e+01, -2.1584e+01,\n",
       "          2.3048e+01,  6.4765e-01, -2.6312e+01,  1.5515e+01, -2.3869e+01,\n",
       "         -3.5080e+01, -9.0219e+00,  2.8467e+01, -2.4960e+01, -4.6059e+00,\n",
       "          9.8770e+00, -5.9631e+00],\n",
       "        [-2.7284e+01,  3.5230e+01, -6.1616e-01, -7.5942e+01, -4.5416e+00,\n",
       "         -1.5480e+00, -4.3681e+00, -5.8932e+00,  1.2707e+01, -1.3209e+00,\n",
       "         -2.7578e+00,  2.2155e+00, -3.3384e+01,  3.7354e+01,  3.1054e+01,\n",
       "         -2.0524e+01,  8.3992e+00,  3.6128e+01, -3.2232e+01,  2.4364e+01,\n",
       "          3.2212e+01,  2.0724e+01, -3.5523e+00,  3.7029e+01, -2.3817e+01,\n",
       "         -4.5092e+01,  2.7186e+00],\n",
       "        [-2.6184e+01,  3.6468e+01,  3.3847e-01, -8.1660e+01, -3.1165e+00,\n",
       "         -3.7714e+00, -4.3938e+00, -6.0472e+00,  1.3252e+01, -2.6459e+00,\n",
       "         -3.8493e+00,  3.1333e+00, -3.3978e+01,  3.6869e+01,  3.1925e+01,\n",
       "         -2.2465e+01,  9.1907e+00,  3.8072e+01, -3.3486e+01,  2.3128e+01,\n",
       "          3.4247e+01,  1.8717e+01, -4.2626e+00,  3.8660e+01, -2.2127e+01,\n",
       "         -4.6003e+01,  3.1761e+00],\n",
       "        [-3.9349e+01,  2.2012e+01, -5.2833e+00, -3.8133e-01, -2.0704e+01,\n",
       "          1.1308e+01, -2.0607e+00, -2.3275e+00,  1.3259e+00,  2.3365e+01,\n",
       "          1.7063e+01, -1.4466e+01, -2.3547e+01,  4.1010e+01,  2.2094e+01,\n",
       "          6.2386e+00, -4.7271e-02,  3.3102e+00, -2.6141e+01,  4.6903e+01,\n",
       "          3.0417e-01,  4.7904e+01,  6.1726e+00,  2.0010e+01, -5.3822e+01,\n",
       "         -3.5252e+01, -1.8200e+01],\n",
       "        [-4.4475e+01,  2.4749e+01, -1.8171e+01, -2.7880e+01,  3.6146e+00,\n",
       "          2.1101e+01,  3.4609e+00, -2.8680e+00,  1.2232e+01, -4.1239e+01,\n",
       "         -1.1055e+01, -1.0428e+01, -4.6602e+01,  2.4911e+01,  2.0410e+01,\n",
       "         -1.8193e+00, -2.1405e+00,  8.2122e-01, -3.4951e+00, -3.2319e+01,\n",
       "          1.5406e+01,  2.3187e+01,  3.1139e+01,  3.1595e+01, -5.9788e-01,\n",
       "         -3.4384e+01, -5.6485e+00],\n",
       "        [ 2.1849e+01,  1.7660e+00, -7.2899e+00,  3.0154e+00,  5.7772e+00,\n",
       "          9.9710e+00,  1.2852e+01, -4.0206e+00, -8.0568e+00,  1.7146e+01,\n",
       "          1.9796e+01,  7.7355e+00,  1.3815e+01,  5.7383e+00, -2.6745e+01,\n",
       "         -6.0754e+00,  1.0253e+01,  1.8529e+01, -1.9883e+01,  1.5641e+01,\n",
       "         -1.1724e+01, -8.3081e+00, -1.8517e+01, -2.1588e+01, -1.4487e+01,\n",
       "         -1.7283e+01,  1.1622e+01],\n",
       "        [-1.8468e+01,  2.2093e+01, -3.2704e+01, -3.4927e+00, -4.9610e+00,\n",
       "          3.1440e+01,  4.1040e+00, -5.6557e+00,  1.2295e+01,  6.8270e+00,\n",
       "          2.4267e+00,  2.0681e+01, -2.2403e+01,  7.2508e+00, -7.7318e+00,\n",
       "          5.0469e+00,  3.3280e+00, -1.8280e+00,  1.2955e+01, -8.6931e+00,\n",
       "         -2.8978e+00,  2.0233e+01,  2.3357e+01, -1.0926e+01, -1.5342e+01,\n",
       "          4.5325e+00,  7.1181e+00],\n",
       "        [ 6.3773e+00,  1.2363e+01, -2.5579e+01,  1.7788e+01, -2.4936e+01,\n",
       "          2.4914e+01,  1.1179e+01, -2.3110e+01,  1.1445e+01,  2.1114e+01,\n",
       "          2.0601e+01,  6.2073e+00, -1.1124e+01,  1.0642e+01,  6.8248e+00,\n",
       "          2.2422e+01, -3.7134e+00, -4.0090e+00,  2.3795e+01,  1.4193e+01,\n",
       "         -1.4187e+01,  1.3293e+01,  2.5626e+01, -1.2860e+01, -2.3771e+01,\n",
       "          6.3074e+00,  1.3881e+01]])"
      ]
     },
     "execution_count": 30,
     "metadata": {},
     "output_type": "execute_result"
    }
   ],
   "source": [
    "logits"
   ]
  },
  {
   "cell_type": "code",
   "execution_count": 56,
   "metadata": {},
   "outputs": [
    {
     "data": {
      "text/plain": [
       "tensor(1.0000)"
      ]
     },
     "execution_count": 56,
     "metadata": {},
     "output_type": "execute_result"
    }
   ],
   "source": [
    "output = torch.nn.functional.softmax(logits, dim=1)\n",
    "output[0].sum()"
   ]
  },
  {
   "cell_type": "markdown",
   "metadata": {},
   "source": [
    "How to acces propability of correct character"
   ]
  },
  {
   "cell_type": "code",
   "execution_count": 57,
   "metadata": {},
   "outputs": [
    {
     "data": {
      "text/plain": [
       "tensor([5.9446e-18, 9.9998e-01, 3.5185e-10, 1.1349e-13, 5.7533e-09, 3.4101e-26,\n",
       "        1.1610e-31, 4.9196e-29, 7.2389e-11, 8.5184e-04, 7.8386e-08, 3.5697e-02,\n",
       "        5.5786e-02, 2.4006e-19, 6.3250e-12, 7.6007e-12, 7.4600e-18, 4.7507e-06,\n",
       "        9.9999e-01, 2.7274e-25, 4.4442e-15, 5.0338e-23, 3.2432e-10, 3.5597e-19,\n",
       "        5.8487e-09, 1.0653e-06, 1.5383e-27, 1.0934e-21, 2.3816e-09, 7.7098e-03,\n",
       "        8.7111e-05, 2.5560e-09])"
      ]
     },
     "execution_count": 57,
     "metadata": {},
     "output_type": "execute_result"
    }
   ],
   "source": [
    "output[torch.arange(32), Y]"
   ]
  },
  {
   "cell_type": "markdown",
   "metadata": {},
   "source": [
    "Error calculation"
   ]
  },
  {
   "cell_type": "code",
   "execution_count": 54,
   "metadata": {},
   "outputs": [
    {
     "data": {
      "text/plain": [
       "tensor(28.3146)"
      ]
     },
     "execution_count": 54,
     "metadata": {},
     "output_type": "execute_result"
    }
   ],
   "source": [
    "loss = -output[torch.arange(32), Y].log().mean()\n",
    "loss"
   ]
  },
  {
   "cell_type": "markdown",
   "metadata": {},
   "source": [
    "We can do all of this with CROSS ENTROPY!!!"
   ]
  },
  {
   "cell_type": "code",
   "execution_count": 55,
   "metadata": {},
   "outputs": [
    {
     "data": {
      "text/plain": [
       "tensor(28.3146)"
      ]
     },
     "execution_count": 55,
     "metadata": {},
     "output_type": "execute_result"
    }
   ],
   "source": [
    "torch.nn.functional.cross_entropy(logits, Y)"
   ]
  },
  {
   "cell_type": "markdown",
   "metadata": {},
   "source": [
    "Lets create training workflow:"
   ]
  },
  {
   "cell_type": "markdown",
   "metadata": {},
   "source": [
    "Creating dataset:\n",
    "Split dataset for train, val, test (80%, 10%, 10%)"
   ]
  },
  {
   "cell_type": "code",
   "execution_count": 18,
   "metadata": {},
   "outputs": [
    {
     "name": "stdout",
     "output_type": "stream",
     "text": [
      "torch.Size([182580, 3]) torch.Size([182580])\n",
      "torch.Size([22767, 3]) torch.Size([22767])\n",
      "torch.Size([22799, 3]) torch.Size([22799])\n"
     ]
    }
   ],
   "source": [
    "block_size = 3 # context length: how many characters do we take to predict the next one?\n",
    "\n",
    "def build_dataset(words):  \n",
    "  X, Y = [], []\n",
    "  for w in words:\n",
    "\n",
    "    #print(w)\n",
    "    context = [0] * block_size\n",
    "    for ch in w + '.':\n",
    "      ix = stoi[ch]\n",
    "      X.append(context)\n",
    "      Y.append(ix)\n",
    "      #print(''.join(itos[i] for i in context), '--->', itos[ix])\n",
    "      context = context[1:] + [ix] # crop and append\n",
    "\n",
    "  X = torch.tensor(X)\n",
    "  Y = torch.tensor(Y)\n",
    "  print(X.shape, Y.shape)\n",
    "  return X, Y\n",
    "\n",
    "import random\n",
    "random.seed(42)\n",
    "random.shuffle(words)\n",
    "n1 = int(0.8*len(words))\n",
    "n2 = int(0.9*len(words))\n",
    "\n",
    "Xtr, Ytr = build_dataset(words[:n1])\n",
    "Xdev, Ydev = build_dataset(words[n1:n2])\n",
    "Xte, Yte = build_dataset(words[n2:])"
   ]
  },
  {
   "cell_type": "code",
   "execution_count": 60,
   "metadata": {},
   "outputs": [
    {
     "name": "stdout",
     "output_type": "stream",
     "text": [
      "14797\n"
     ]
    }
   ],
   "source": [
    "g = torch.Generator().manual_seed(2147483647) # for reproducibility\n",
    "C = torch.randn((27, 10), generator=g)\n",
    "W1 = torch.randn((30, 250), generator=g)\n",
    "b1 = torch.randn(250, generator=g)\n",
    "W2 = torch.randn((250, 27), generator=g)\n",
    "b2 = torch.randn(27, generator=g)\n",
    "parameters = [C, W1, b1, W2, b2]\n",
    "\n",
    "print(sum(p.nelement() for p in parameters))\n",
    "\n",
    "for p in parameters:\n",
    "    p.requires_grad = True"
   ]
  },
  {
   "cell_type": "markdown",
   "metadata": {},
   "source": [
    "Learning rate"
   ]
  },
  {
   "cell_type": "code",
   "execution_count": 7,
   "metadata": {},
   "outputs": [],
   "source": [
    "lre = torch.linspace(-3, 0, 1000)\n",
    "lrs = 10**lre"
   ]
  },
  {
   "cell_type": "code",
   "execution_count": 61,
   "metadata": {},
   "outputs": [],
   "source": [
    "lri = []\n",
    "losses = []\n",
    "stepi = []"
   ]
  },
  {
   "cell_type": "code",
   "execution_count": 64,
   "metadata": {},
   "outputs": [],
   "source": [
    "\n",
    "for i in range(25000):\n",
    "    \n",
    "    #minibatch\n",
    "    ix = torch.randint(0, Xtr.shape[0], (64,))\n",
    "\n",
    "    #forward pass\n",
    "    embedding = C[Xtr[ix]]\n",
    "    h = torch.tanh(embedding.view(-1, 30) @ W1 + b1)\n",
    "    logits = h @ W2 + b2\n",
    "    loss = torch.nn.functional.cross_entropy(logits, Ytr[ix])\n",
    "    #print(loss.item())\n",
    "\n",
    "    #backward pass\n",
    "    for p in parameters:\n",
    "        p.grad = None\n",
    "    loss.backward()\n",
    "\n",
    "    #update\n",
    "    lr = 0.01\n",
    "    for p in parameters:\n",
    "        p.data += -lr * p.grad\n",
    "\n",
    "    #track stats\n",
    "    #lri.append(lr)\n",
    "    stepi.append(i)\n",
    "    losses.append(loss.log10().item())\n",
    "\n",
    "    \n"
   ]
  },
  {
   "cell_type": "code",
   "execution_count": 65,
   "metadata": {},
   "outputs": [
    {
     "data": {
      "text/plain": [
       "[<matplotlib.lines.Line2D at 0x16408856480>]"
      ]
     },
     "execution_count": 65,
     "metadata": {},
     "output_type": "execute_result"
    },
    {
     "data": {
      "image/png": "[encoded data removed]",
      "text/plain": [
       "<Figure size 640x480 with 1 Axes>"
      ]
     },
     "metadata": {},
     "output_type": "display_data"
    }
   ],
   "source": [
    "plt.plot(stepi, losses)"
   ]
  },
  {
   "cell_type": "code",
   "execution_count": 66,
   "metadata": {},
   "outputs": [
    {
     "data": {
      "text/plain": [
       "2.142120838165283"
      ]
     },
     "execution_count": 66,
     "metadata": {},
     "output_type": "execute_result"
    }
   ],
   "source": [
    "embedding = C[Xtr]\n",
    "h = torch.tanh(embedding.view(-1, 30) @ W1 + b1)\n",
    "logits = h @ W2 + b2\n",
    "loss = torch.nn.functional.cross_entropy(logits, Ytr)\n",
    "loss.item()"
   ]
  },
  {
   "cell_type": "code",
   "execution_count": 67,
   "metadata": {},
   "outputs": [
    {
     "data": {
      "text/plain": [
       "2.1836657524108887"
      ]
     },
     "execution_count": 67,
     "metadata": {},
     "output_type": "execute_result"
    }
   ],
   "source": [
    "embedding = C[Xdev]\n",
    "h = torch.tanh(embedding.view(-1, 30) @ W1 + b1)\n",
    "logits = h @ W2 + b2\n",
    "loss = torch.nn.functional.cross_entropy(logits, Ydev)\n",
    "loss.item()"
   ]
  },
  {
   "cell_type": "code",
   "execution_count": 9,
   "metadata": {},
   "outputs": [
    {
     "data": {
      "text/plain": [
       "[<matplotlib.lines.Line2D at 0x1647b7e2810>]"
      ]
     },
     "execution_count": 9,
     "metadata": {},
     "output_type": "execute_result"
    },
    {
     "data": {
      "image/png": "[encoded data removed]",
      "text/plain": [
       "<Figure size 640x480 with 1 Axes>"
      ]
     },
     "metadata": {},
     "output_type": "display_data"
    }
   ],
   "source": [
    "plt.plot(lri, losses)"
   ]
  },
  {
   "cell_type": "code",
   "execution_count": 50,
   "metadata": {},
   "outputs": [
    {
     "data": {
      "image/png": "[encoded data removed]",
      "text/plain": [
       "<Figure size 800x800 with 1 Axes>"
      ]
     },
     "metadata": {},
     "output_type": "display_data"
    }
   ],
   "source": [
    "# visualize dimensions 0 and 1 of the embedding matrix C for all characters\n",
    "plt.figure(figsize=(8,8))\n",
    "plt.scatter(C[:,0].data, C[:,1].data, s=200)\n",
    "for i in range(C.shape[0]):\n",
    "    plt.text(C[i,0].item(), C[i,1].item(), itos[i], ha=\"center\", va=\"center\", color='white')\n",
    "plt.grid('minor')"
   ]
  },
  {
   "cell_type": "code",
   "execution_count": 68,
   "metadata": {},
   "outputs": [
    {
     "name": "stdout",
     "output_type": "stream",
     "text": [
      "eria.\n",
      "kmyah.\n",
      "seel.\n",
      "nihah.\n",
      "larethan.\n",
      "endraeg.\n",
      "aderydieliah.\n",
      "mikopareke.\n",
      "sustanaraelyn.\n",
      "malaia.\n",
      "nosadhvon.\n",
      "hiries.\n",
      "kindreth.\n",
      "khanthuofour.\n",
      "kavdariyah.\n",
      "fael.\n",
      "yuma.\n",
      "mys.\n",
      "kyla.\n",
      "hil.\n"
     ]
    }
   ],
   "source": [
    "g = torch.Generator().manual_seed(2147483647 + 10)\n",
    "\n",
    "for _ in range(20):\n",
    "    \n",
    "    out = []\n",
    "    context = [0] * block_size # initialize with all ...\n",
    "    while True:\n",
    "      emb = C[torch.tensor([context])] # (1,block_size,d)\n",
    "      h = torch.tanh(emb.view(1, -1) @ W1 + b1)\n",
    "      logits = h @ W2 + b2\n",
    "      probs = torch.nn.functional.softmax(logits, dim=1)\n",
    "      ix = torch.multinomial(probs, num_samples=1, generator=g).item()\n",
    "      context = context[1:] + [ix]\n",
    "      out.append(ix)\n",
    "      if ix == 0:\n",
    "        break\n",
    "    \n",
    "    print(''.join(itos[i] for i in out))"
   ]
  },
  {
   "cell_type": "code",
   "execution_count": null,
   "metadata": {},
   "outputs": [],
   "source": []
  }
 ],
 "metadata": {
  "kernelspec": {
   "display_name": "Python 3",
   "language": "python",
   "name": "python3"
  },
  "language_info": {
   "codemirror_mode": {
    "name": "ipython",
    "version": 3
   },
   "file_extension": ".py",
   "mimetype": "text/x-python",
   "name": "python",
   "nbconvert_exporter": "python",
   "pygments_lexer": "ipython3",
   "version": "3.12.4"
  }
 },
 "nbformat": 4,
 "nbformat_minor": 2
}
